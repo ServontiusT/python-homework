{
 "cells": [
  {
   "cell_type": "code",
   "execution_count": 12,
   "source": [
    "#!/usr/bin/env python3\n",
    "# -*- coding: utf-8 -*-\n",
    "\"\"\"\n",
    "Created on Mon Sep 20 20:21:21 2021\n",
    "\n",
    "@author: servontius\n",
    "\"\"\"\n",
    "\n",
    "# Import module to work with csv files\n",
    "import csv\n",
    "\n",
    "# Declare variables to hold the input file, total months in the file, total profit/loss and max increase/decrease\n",
    "input_path = \"./Resources/budget_data.csv\"\n",
    "total_months = 0\n",
    "net_profit_loss = 0\n",
    "\n",
    "# Declare empty list to hold data within csv file\n",
    "budget = []\n",
    "\n",
    "# Open the CSV file to manipulate the data\n",
    "with open(input_path, \"r\") as budgetfile:\n",
    "\n",
    "    # Read the file and append the header information to the budget list\n",
    "    budgetreader = csv.reader(budgetfile, delimiter=\",\")\n",
    "    header = next(budgetreader)\n",
    "    budget.append(header)\n",
    "\n",
    "    # Iterate through each row of the file and convert the numeric values to int for maths\n",
    "    for row in budgetreader:\n",
    "        date = row[0]\n",
    "        profit_loss = int(row[1])\n",
    "\n",
    "        # Add the row to the Budget full budget List\n",
    "        budget.append(row)\n",
    "\n",
    "        # Increase the count of total months in the file\n",
    "        total_months += 1\n",
    "\n",
    "        # Calculate the total Net Profit/Loss\n",
    "        net_profit_loss += profit_loss\n",
    "\n",
    "        \"\"\"Create a loop that checks the current value against the previous value and\n",
    "            store it in a variable so that the increase and decrease in profits can be calculated.\"\"\"\n",
    "\n",
    "budget.pop(0)\n",
    "counter = 0\n",
    "previous_month = 0\n",
    "current_month = 0\n",
    "max_increase = ''\n",
    "max_decrease = ''\n",
    "increase_holder = 0\n",
    "\n",
    "for num in budget:\n",
    "    if counter == 0:\n",
    "        previous_month = int(num[1])\n",
    "        counter = 1\n",
    "    elif counter == 1:\n",
    "        current_month = int(num[1])\n",
    "        counter = 2\n",
    "    elif counter == 2:\n",
    "        if increase_holder == 0:\n",
    "            increase_holder = (current_month - previous_month)\n",
    "            previous_month = 0\n",
    "            current_month = 0\n",
    "            counter = 0\n",
    "        elif increase_holder > (current_month - previous_month):\n",
    "            max_increase = num\n",
    "            previous_month = 0\n",
    "            current_month = 0\n",
    "            counter = 0\n",
    "        else:\n",
    "            previous_month = 0\n",
    "            current_month = 0\n",
    "            counter = 0\n",
    "\n",
    "print(max_increase)\n",
    "average_change = round(profit_loss / total_months)\n",
    "\n",
    "'''print(\"Financial Analysis\")\n",
    "print(\"----------------------------\")\n",
    "print(f\"Total Months: {total_months}\")\n",
    "print(f\"Total: {net_profit_loss}\")\n",
    "print(f\"Average Change: {average_change}\")\n",
    "print(f\"Greatest Increase in Profits: {max_increase}\")\n",
    "print(f\"Greatest Decrease in Profits: {max_decrease}\")'''"
   ],
   "outputs": [
    {
     "output_type": "stream",
     "name": "stdout",
     "text": [
      "['Jun-2016', '712961']\n"
     ]
    },
    {
     "output_type": "execute_result",
     "data": {
      "text/plain": [
       "'print(\"Financial Analysis\")\\nprint(\"----------------------------\")\\nprint(f\"Total Months: {total_months}\")\\nprint(f\"Total: {net_profit_loss}\")\\nprint(f\"Average Change: {average_change}\")\\nprint(f\"Greatest Increase in Profits: {max_increase}\")\\nprint(f\"Greatest Decrease in Profits: {max_decrease}\")'"
      ]
     },
     "metadata": {},
     "execution_count": 12
    }
   ],
   "metadata": {}
  }
 ],
 "metadata": {
  "kernelspec": {
   "name": "python3",
   "display_name": "Python 3.8.8 64-bit ('base': conda)"
  },
  "language_info": {
   "codemirror_mode": {
    "name": "ipython",
    "version": 3
   },
   "file_extension": ".py",
   "mimetype": "text/x-python",
   "name": "python",
   "nbconvert_exporter": "python",
   "pygments_lexer": "ipython3",
   "version": "3.8.8"
  },
  "interpreter": {
   "hash": "dca0ade3e726a953b501b15e8e990130d2b7799f14cfd9f4271676035ebe5511"
  }
 },
 "nbformat": 4,
 "nbformat_minor": 5
}