{
 "cells": [
  {
   "cell_type": "code",
   "execution_count": 129,
   "source": [
    "#!/usr/bin/env python3\n",
    "# -*- coding: utf-8 -*-\n",
    "\"\"\"\n",
    "Created on Mon Sep 20 20:21:21 2021\n",
    "\n",
    "@author: servontius\n",
    "\"\"\"\n",
    "\n",
    "# Import module to work with csv files\n",
    "import csv\n",
    "import numpy as np\n",
    "\n",
    "# Declare path to the input file\n",
    "input_path = \"./Resources/budget_data.csv\"\n",
    "\n",
    "# Declare empty list to hold data within csv file\n",
    "budget = []\n",
    "\n",
    "# Open the CSV file to manipulate the data\n",
    "with open(input_path, \"r\") as budgetfile:\n",
    "\n",
    "    # Read the file and append the header information to the budget list\n",
    "    budgetreader = csv.reader(budgetfile, delimiter=\",\")\n",
    "    header = next(budgetreader)\n",
    "    budget.append(header)\n",
    "\n",
    "    # Iterate through each row of the file and convert the numeric values to int for maths\n",
    "    total_months = 0\n",
    "    net_profit_loss = 0\n",
    "    total_value = 0\n",
    "\n",
    "    for row in budgetreader:\n",
    "        date = row[0]\n",
    "        profit_loss = int(row[1])\n",
    "\n",
    "        # Add the row to the Budget full budget List\n",
    "        budget.append([date, (profit_loss)])\n",
    "        \n",
    "        # Increase the count of total months in the file\n",
    "        total_months += 1\n",
    "\n",
    "        # Calculate the total Net Profit/Loss\n",
    "        net_profit_loss += profit_loss\n",
    "\n",
    "# Create a new List to hold the Integer values for performing math on the Profit Loss Column of the Budget List\n",
    "new_budget = []\n",
    "\n",
    "# Remove the Header to allow easier math on the list.\n",
    "budget.pop(0)\n",
    "\n",
    "# Iterate through the Budget list and add the integer Profit Loss value to the list\n",
    "for i in range(len(budget)):\n",
    "    new_budget.append(budget[i][1])\n",
    "\n",
    "# Find the difference between the list data and assign the values of the highest and lowest to new variables \n",
    "diff_budget = np.diff(new_budget)\n",
    "max_diff = diff_budget.max()\n",
    "min_diff = diff_budget.min()\n",
    "\n",
    "# Find the index number in the budget list and convert to integer\n",
    "max_diff_index = int(np.where(diff_budget == max_diff)[0])\n",
    "min_diff_index = int(np.where(diff_budget == min_diff)[0])\n",
    "\n",
    "# Set the Max Increase and MAx Decrease variables to the information from both lists\n",
    "max_increase = f\"{budget[max_diff_index+1][0]} {str(max_diff)}\"\n",
    "max_decrease = f\"{budget[min_diff_index+1][0]} {str(min_diff)}\"\n",
    "\n",
    "# average_change = round(profit_loss / total_months)\n",
    "\n",
    "print(\"Financial Analysis\")\n",
    "print(\"----------------------------\")\n",
    "print(f\"Total Months: {total_months}\")\n",
    "print(f\"Total: {net_profit_loss}\")\n",
    "#print(f\"Average Change: {average_change}\")\n",
    "print(f\"Greatest Increase in Profits: {max_increase}\")\n",
    "print(f\"Greatest Decrease in Profits: {max_decrease}\")\n",
    "\n"
   ],
   "outputs": [
    {
     "output_type": "stream",
     "name": "stdout",
     "text": [
      "Financial Analysis\n",
      "----------------------------\n",
      "Total Months: 86\n",
      "Total: 38382578\n",
      "Greatest Increase in Profits: Feb-2012 1926159\n",
      "Greatest Decrease in Profits: Sep-2013 -2196167\n"
     ]
    }
   ],
   "metadata": {}
  }
 ],
 "metadata": {
  "kernelspec": {
   "name": "python3",
   "display_name": "Python 3.8.8 64-bit ('base': conda)"
  },
  "language_info": {
   "codemirror_mode": {
    "name": "ipython",
    "version": 3
   },
   "file_extension": ".py",
   "mimetype": "text/x-python",
   "name": "python",
   "nbconvert_exporter": "python",
   "pygments_lexer": "ipython3",
   "version": "3.8.8"
  },
  "interpreter": {
   "hash": "dca0ade3e726a953b501b15e8e990130d2b7799f14cfd9f4271676035ebe5511"
  }
 },
 "nbformat": 4,
 "nbformat_minor": 5
}