{
 "cells": [
  {
   "cell_type": "code",
   "execution_count": 40,
   "id": "706001e0-4b6c-4968-bdf9-5d301da693d2",
   "metadata": {},
   "outputs": [
    {
     "name": "stdout",
     "output_type": "stream",
     "text": [
      "Financial Analysis\n",
      "----------------------------\n",
      "Total Months: 86\n",
      "Total: 38382578\n",
      "Average Change: 446309\n"
     ]
    }
   ],
   "source": [
    "# Import module to work with csv files\n",
    "import csv\n",
    "\n",
    "# Declare variables to hold the input file, total months in the file, total profit/loss and max increase/decrease\n",
    "input_path = './Resources/budget_data.csv'\n",
    "total_months = 0\n",
    "net_profit_loss = 0\n",
    "max_increase = 0\n",
    "max_decrease = 0\n",
    "\n",
    "# Declare empty list to hold data within csv file\n",
    "budget = []\n",
    "\n",
    "# Open the CSV file to manipulate the data\n",
    "with open(input_path, 'r') as budgetfile:\n",
    "    \n",
    "    # Read the file and append the header information to the budget list\n",
    "    budgetreader = csv.reader(budgetfile, delimiter = ',')\n",
    "    header = next(budgetreader)\n",
    "    budget.append(header)\n",
    "    \n",
    "    # Iterate through each row of the file and convert the numeric values to int for maths\n",
    "    for row in budgetreader:\n",
    "        date = row[0]\n",
    "        profit_loss = int(row[1])\n",
    "        \n",
    "        # Add the row to the Budget List\n",
    "        budget.append(row)\n",
    "        \n",
    "        # Increase the count of total months in the file\n",
    "        total_months += 1\n",
    "        \n",
    "        # Calculate the total Net Profit/Loss\n",
    "        net_profit_loss += profit_loss\n",
    "        \n",
    "        \"\"\"Create a loop that checks the current value against the previous value and\n",
    "            store it in a variable so that the increase and decrease in profits can be calculated.\"\"\"\n",
    "\n",
    "print(f\"Financial Analysis\")\n",
    "print(\"----------------------------\")\n",
    "print(f\"Total Months: {total_months}\")\n",
    "print(f\"Total: {net_profit_loss}\")\n",
    "print(f\"Average Change: {average_change}\")\n",
    "\n"
   ]
  },
  {
   "cell_type": "code",
   "execution_count": null,
   "id": "16f8402e-e020-4bbe-adde-c2ec520bd049",
   "metadata": {},
   "outputs": [],
   "source": []
  },
  {
   "cell_type": "code",
   "execution_count": null,
   "id": "1860ec76-4b59-44cc-8146-ee3e8100b02e",
   "metadata": {},
   "outputs": [],
   "source": []
  }
 ],
 "metadata": {
  "kernelspec": {
   "display_name": "Python 3 (ipykernel)",
   "language": "python",
   "name": "python3"
  },
  "language_info": {
   "codemirror_mode": {
    "name": "ipython",
    "version": 3
   },
   "file_extension": ".py",
   "mimetype": "text/x-python",
   "name": "python",
   "nbconvert_exporter": "python",
   "pygments_lexer": "ipython3",
   "version": "3.8.8"
  }
 },
 "nbformat": 4,
 "nbformat_minor": 5
}
