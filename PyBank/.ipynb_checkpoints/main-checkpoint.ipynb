{
 "cells": [
  {
   "cell_type": "code",
   "execution_count": 49,
   "id": "706001e0-4b6c-4968-bdf9-5d301da693d2",
   "metadata": {},
   "outputs": [
    {
     "ename": "TypeError",
     "evalue": "list indices must be integers or slices, not list",
     "output_type": "error",
     "traceback": [
      "\u001b[0;31m---------------------------------------------------------------------------\u001b[0m",
      "\u001b[0;31mTypeError\u001b[0m                                 Traceback (most recent call last)",
      "\u001b[0;32m/var/folders/3z/5_lhcfz90xx22d09pj4ckh080000gq/T/ipykernel_972/1817461293.py\u001b[0m in \u001b[0;36m<module>\u001b[0;34m\u001b[0m\n\u001b[1;32m     41\u001b[0m \u001b[0;32mfor\u001b[0m \u001b[0mnum\u001b[0m \u001b[0;32min\u001b[0m \u001b[0mbudget\u001b[0m\u001b[0;34m:\u001b[0m\u001b[0;34m\u001b[0m\u001b[0;34m\u001b[0m\u001b[0m\n\u001b[1;32m     42\u001b[0m     \u001b[0;32mif\u001b[0m \u001b[0mmax_decrease\u001b[0m \u001b[0;34m==\u001b[0m \u001b[0;36m0\u001b[0m\u001b[0;34m:\u001b[0m\u001b[0;34m\u001b[0m\u001b[0;34m\u001b[0m\u001b[0m\n\u001b[0;32m---> 43\u001b[0;31m         \u001b[0mmax_decrease\u001b[0m \u001b[0;34m=\u001b[0m \u001b[0mbudget\u001b[0m\u001b[0;34m[\u001b[0m\u001b[0mnum\u001b[0m\u001b[0;34m]\u001b[0m\u001b[0;34m\u001b[0m\u001b[0;34m\u001b[0m\u001b[0m\n\u001b[0m\u001b[1;32m     44\u001b[0m     \u001b[0;32melif\u001b[0m \u001b[0mbudget\u001b[0m\u001b[0;34m[\u001b[0m\u001b[0;36m1\u001b[0m\u001b[0;34m]\u001b[0m \u001b[0;34m>\u001b[0m \u001b[0mnum\u001b[0m\u001b[0;34m:\u001b[0m\u001b[0;34m\u001b[0m\u001b[0;34m\u001b[0m\u001b[0m\n\u001b[1;32m     45\u001b[0m         \u001b[0mmax_increase\u001b[0m \u001b[0;34m=\u001b[0m \u001b[0mnum\u001b[0m\u001b[0;34m\u001b[0m\u001b[0;34m\u001b[0m\u001b[0m\n",
      "\u001b[0;31mTypeError\u001b[0m: list indices must be integers or slices, not list"
     ]
    }
   ],
   "source": [
    "# Import module to work with csv files\n",
    "import csv\n",
    "\n",
    "# Declare variables to hold the input file, total months in the file, total profit/loss and max increase/decrease\n",
    "input_path = './Resources/budget_data.csv'\n",
    "total_months = 0\n",
    "net_profit_loss = 0\n",
    "max_increase = 0\n",
    "max_decrease = 0\n",
    "\n",
    "# Declare empty list to hold data within csv file\n",
    "budget = []\n",
    "\n",
    "# Open the CSV file to manipulate the data\n",
    "with open(input_path, 'r') as budgetfile:\n",
    "    \n",
    "    # Read the file and append the header information to the budget list\n",
    "    budgetreader = csv.reader(budgetfile, delimiter = ',')\n",
    "    header = next(budgetreader)\n",
    "    budget.append(header)\n",
    "    \n",
    "    # Iterate through each row of the file and convert the numeric values to int for maths\n",
    "    for row in budgetreader:\n",
    "        date = row[0]\n",
    "        profit_loss = int(row[1])\n",
    "        \n",
    "        # Add the row to the Budget List\n",
    "        budget.append(row)\n",
    "        \n",
    "        # Increase the count of total months in the file\n",
    "        total_months += 1\n",
    "        \n",
    "        # Calculate the total Net Profit/Loss\n",
    "        net_profit_loss += profit_loss\n",
    "        \n",
    "        \"\"\"Create a loop that checks the current value against the previous value and\n",
    "            store it in a variable so that the increase and decrease in profits can be calculated.\"\"\"\n",
    "\n",
    "average_change = round(net_profit_loss / total_months)\n",
    "        \n",
    "for num in budget:\n",
    "    if max_decrease == 0:\n",
    "        max_decrease = budget[num]\n",
    "    elif budget[1] > num:\n",
    "        max_increase = num\n",
    "         \n",
    "\n",
    "print(f\"Financial Analysis\")\n",
    "print(\"----------------------------\")\n",
    "print(f\"Total Months: {total_months}\")\n",
    "print(f\"Total: {net_profit_loss}\")\n",
    "print(f\"Average Change: {average_change}\")\n",
    "print(f\"Greatest Increase in Profits: {max_increase}\")\n",
    "print(f\"Greatest Decrease in Profits: {max_decrease}\")\n",
    "\n"
   ]
  },
  {
   "cell_type": "code",
   "execution_count": null,
   "id": "16f8402e-e020-4bbe-adde-c2ec520bd049",
   "metadata": {},
   "outputs": [],
   "source": []
  },
  {
   "cell_type": "code",
   "execution_count": null,
   "id": "1860ec76-4b59-44cc-8146-ee3e8100b02e",
   "metadata": {},
   "outputs": [],
   "source": []
  },
  {
   "cell_type": "code",
   "execution_count": null,
   "id": "613397c4-bad3-4dea-baef-6c208f1fe46f",
   "metadata": {},
   "outputs": [],
   "source": []
  }
 ],
 "metadata": {
  "kernelspec": {
   "display_name": "Python 3 (ipykernel)",
   "language": "python",
   "name": "python3"
  },
  "language_info": {
   "codemirror_mode": {
    "name": "ipython",
    "version": 3
   },
   "file_extension": ".py",
   "mimetype": "text/x-python",
   "name": "python",
   "nbconvert_exporter": "python",
   "pygments_lexer": "ipython3",
   "version": "3.8.8"
  }
 },
 "nbformat": 4,
 "nbformat_minor": 5
}
